{
 "cells": [
  {
   "cell_type": "code",
   "execution_count": 7,
   "metadata": {},
   "outputs": [
    {
     "name": "stdout",
     "output_type": "stream",
     "text": [
      "\n",
      "**Mean Scores and Standard Deviations for Each Metric:**\n",
      "\n",
      "Gemma2_2b_faithfulness: Mean = 0.966, Std = 0.102\n",
      "Mistral_7b_faithfulness: Mean = 0.848, Std = 0.271\n",
      "Gemma2_2b_answer_relevancy: Mean = 0.888, Std = 0.057\n",
      "Mistral_7b_answer_relevancy: Mean = 0.893, Std = 0.050\n",
      "Gemma2_2b_context_utilization: Mean = 0.939, Std = 0.184\n",
      "Mistral_7b_context_utilization: Mean = 0.980, Std = 0.108\n",
      "Human_faithfulness: Mean = 0.760, Std = 0.081\n",
      "Human_answer_relevancy: Mean = 0.993, Std = 0.037\n",
      "Human_context_utilization: Mean = 0.713, Std = 0.101\n"
     ]
    }
   ],
   "source": [
    "import pandas as pd\n",
    "\n",
    "# Load dataset\n",
    "df = pd.read_csv(\"/Users/badekale/Documents/cop_summary/Sheet 5-Table 1/Compiled evaluation result.csv\")\n",
    "\n",
    "# Define relevant columns\n",
    "relevant_columns = ['Gemma2_2b_faithfulness', 'Mistral_7b_faithfulness',\n",
    "                   'Gemma2_2b_answer_relevancy', 'Mistral_7b_answer_relevancy',\n",
    "                   'Gemma2_2b_context_utilization', 'Mistral_7b_context_utilization',\n",
    "                   'Human_faithfulness', 'Human_answer_relevancy', 'Human_context_utilization']\n",
    "\n",
    "# Compute column means and standard deviations, ignoring 0s\n",
    "column_means = df[relevant_columns].replace(0, pd.NA).mean()\n",
    "column_stds = df[relevant_columns].replace(0, pd.NA).std()\n",
    "\n",
    "# Combine means and standard deviations into a dictionary for display\n",
    "stats = {col: (mean, std) for col, mean, std in zip(relevant_columns, column_means, column_stds)}\n",
    "\n",
    "# Display results\n",
    "print(\"\\n**Mean Scores and Standard Deviations for Each Metric:**\\n\")\n",
    "for metric, (mean, std) in stats.items():\n",
    "    print(f\"{metric}: Mean = {mean:.3f}, Std = {std:.3f}\")"
   ]
  },
  {
   "cell_type": "code",
   "execution_count": null,
   "metadata": {},
   "outputs": [
    {
     "name": "stdout",
     "output_type": "stream",
     "text": [
      "Number of rows identified: 1\n",
      "\n",
      "**Spearman Rank Correlations - No Forward Fill:**\n",
      "\n",
      "Human_context_utilization vs Mistral_7b_context_utilization: 0.401\n",
      "\n",
      "**Spearman Rank Correlations - Mean Replacement (Ignoring Zeros):**\n",
      "\n",
      "Human_context_utilization vs Mistral_7b_context_utilization: 0.280\n",
      "\n",
      "**Spearman Rank Correlations - Mean Replacement (Including Zeros):**\n",
      "\n",
      "Human_context_utilization vs Mistral_7b_context_utilization: 0.280\n"
     ]
    },
    {
     "name": "stderr",
     "output_type": "stream",
     "text": [
      "/var/folders/ps/_j2fnmks75s10c6kq1tt3gkw0000gn/T/ipykernel_45601/3368968520.py:39: FutureWarning: Downcasting object dtype arrays on .fillna, .ffill, .bfill is deprecated and will change in a future version. Call result.infer_objects(copy=False) instead. To opt-in to the future behavior, set `pd.set_option('future.no_silent_downcasting', True)`\n",
      "  df_ignore_zeros = df_ignore_zeros.fillna(column_means_ignore_zeros)\n"
     ]
    }
   ],
   "source": [
    "# Load dataset\n",
    "df = pd.read_csv(\"/Users/badekale/Documents/cop_summary/Sheet 5-Table 1/Compiled evaluation result.csv\")  # Adjust file path\n",
    "\n",
    "# Define relevant columns\n",
    "relevant_columns = [\n",
    "    #'Gemma2_2b_faithfulness', \n",
    "    #'Mistral_7b_faithfulness',\n",
    "    #'Gemma2_2b_answer_relevancy', \n",
    "    #'Mistral_7b_answer_relevancy',\n",
    "    #'Gemma2_2b_context_utilization', \n",
    "    'Mistral_7b_context_utilization',\n",
    "    #'Human_faithfulness', \n",
    "    #'Human_answer_relevancy', \n",
    "    'Human_context_utilization'\n",
    "]\n",
    "\n",
    "# Identify rows that contain at least one NaN or zero\n",
    "mask = df[relevant_columns].isna().any(axis=1) | (df[relevant_columns] == 0).any(axis=1)\n",
    "\n",
    "num_identified_rows = mask.sum()\n",
    "print(f\"Number of rows identified: {num_identified_rows}\")\n",
    "\n",
    "# Replace entire rows with zeros where any NaN or zero exists\n",
    "df.loc[mask, relevant_columns] = 0\n",
    "\n",
    "# ========================= CASE 1: No Forward-Fill =========================\n",
    "df_no_fill = df[relevant_columns].copy()\n",
    "\n",
    "# ========================= CASE 2: Replace NaN with Column Mean (Ignoring Zeros) =========================\n",
    "# Convert zeros to NaN so they don't affect the mean calculation\n",
    "df_ignore_zeros = df[relevant_columns].replace(0, pd.NA)\n",
    "\n",
    "# Compute column means ignoring NaNs (and previous zeros)\n",
    "column_means_ignore_zeros = df_ignore_zeros.mean()\n",
    "\n",
    "# Permanently replace NaNs (including previous zeros) with computed means\n",
    "df_ignore_zeros = df_ignore_zeros.fillna(column_means_ignore_zeros)\n",
    "\n",
    "# ========================= CASE 3: Replace NaN and Zero with Column Mean (Including Zeros) =========================\n",
    "df_include_zeros = df[relevant_columns].copy()\n",
    "\n",
    "# Compute mean including zeros\n",
    "column_means_include_zeros = df_include_zeros.mean()\n",
    "\n",
    "# Replace all NaN and zero values with column means\n",
    "df_include_zeros = df_include_zeros.apply(lambda col: col.replace(0, column_means_include_zeros[col.name]).fillna(column_means_include_zeros[col.name]), axis=0)\n",
    "\n",
    "# ========================= Step 4: Compute Spearman Rank Correlation =========================\n",
    "spearman_corr_no_fill = df_no_fill.corr(method='spearman')\n",
    "spearman_corr_ignore_zeros = df_ignore_zeros.corr(method='spearman')\n",
    "spearman_corr_include_zeros = df_include_zeros.corr(method='spearman')\n",
    "\n",
    "# ========================= Step 5: Extract Key Correlations =========================\n",
    "key_metrics = [\n",
    "    #('Gemma2_2b_faithfulness', 'Mistral_7b_faithfulness'),\n",
    "    #('Gemma2_2b_answer_relevancy', 'Mistral_7b_answer_relevancy'),\n",
    "    #('Gemma2_2b_context_utilization', 'Mistral_7b_context_utilization'),\n",
    "    #('Human_faithfulness', 'Gemma2_2b_faithfulness'),\n",
    "    #('Human_answer_relevancy', 'Gemma2_2b_answer_relevancy'),\n",
    "    #('Human_context_utilization', 'Gemma2_2b_context_utilization'),\n",
    "    #('Human_faithfulness', 'Mistral_7b_faithfulness'),\n",
    "    #('Human_answer_relevancy', 'Mistral_7b_answer_relevancy'),\n",
    "    ('Human_context_utilization', 'Mistral_7b_context_utilization')\n",
    "]\n",
    "\n",
    "# ========================= Step 6: Print Key Correlations =========================\n",
    "def print_key_correlations(correlation_matrix, case_name):\n",
    "    print(f\"\\n**Spearman Rank Correlations - {case_name}:**\\n\")\n",
    "    for metric1, metric2 in key_metrics:\n",
    "        print(f\"{metric1} vs {metric2}: {correlation_matrix.loc[metric1, metric2]:.3f}\")\n",
    "\n",
    "# Print correlations for each case\n",
    "print_key_correlations(spearman_corr_no_fill, \"No Forward Fill\")\n",
    "print_key_correlations(spearman_corr_ignore_zeros, \"Mean Replacement (Ignoring Zeros)\")\n",
    "print_key_correlations(spearman_corr_include_zeros, \"Mean Replacement (Including Zeros)\")\n"
   ]
  }
 ],
 "metadata": {
  "kernelspec": {
   "display_name": ".venv",
   "language": "python",
   "name": "python3"
  },
  "language_info": {
   "codemirror_mode": {
    "name": "ipython",
    "version": 3
   },
   "file_extension": ".py",
   "mimetype": "text/x-python",
   "name": "python",
   "nbconvert_exporter": "python",
   "pygments_lexer": "ipython3",
   "version": "3.11.0"
  },
  "orig_nbformat": 4
 },
 "nbformat": 4,
 "nbformat_minor": 2
}
