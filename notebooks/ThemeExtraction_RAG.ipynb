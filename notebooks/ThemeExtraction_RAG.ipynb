{
 "cells": [
  {
   "cell_type": "code",
   "execution_count": 342,
   "metadata": {},
   "outputs": [],
   "source": [
    "pdf_folder_path = \"/Users/badekale/Documents/Hamoyeew/Subfolders\""
   ]
  },
  {
   "cell_type": "code",
   "execution_count": 343,
   "metadata": {},
   "outputs": [
    {
     "name": "stdout",
     "output_type": "stream",
     "text": [
      "Total files in the folder: 52\n"
     ]
    }
   ],
   "source": [
    "import os\n",
    "subfolders = sorted([folder for folder in os.listdir(pdf_folder_path) if os.path.isdir(os.path.join(pdf_folder_path, folder))])\n",
    "print(f\"Total files in the folder: {len(subfolders)}\")"
   ]
  },
  {
   "cell_type": "code",
   "execution_count": 344,
   "metadata": {},
   "outputs": [],
   "source": [
    "import os\n",
    "from langchain_nomic import NomicEmbeddings\n",
    "from langchain_community.vectorstores import Chroma\n",
    "from langchain.document_loaders import PyPDFLoader\n",
    "from langchain.text_splitter import RecursiveCharacterTextSplitter\n",
    "from langchain_nomic import NomicEmbeddings\n",
    "from langchain_core.output_parsers import StrOutputParser\n",
    "from langchain_core.runnables import RunnableLambda, RunnablePassthrough\n",
    "from langchain.chains import RetrievalQA\n",
    "from IPython.display import Markdown\n",
    "import re"
   ]
  },
  {
   "cell_type": "code",
   "execution_count": 345,
   "metadata": {},
   "outputs": [
    {
     "name": "stdout",
     "output_type": "stream",
     "text": [
      "Processing folder: COP28\n",
      "Loaded and processed: cp2023_11a01E.pdf\n",
      "Loaded and processed: cp2023_11a02E.pdf\n",
      "Processing folder: CMP18\n",
      "Loaded and processed: cmp2023_09a01E.pdf\n",
      "Processing folder: CMA5\n",
      "Loaded and processed: cma2023_16a01E.pdf\n",
      "Loaded and processed: cma2023_16a02E.pdf\n",
      "Loaded and processed: cma2023_16a03E.pdf\n",
      "Processing folder: COP27\n",
      "Loaded and processed: cp2022_10a01_E.pdf\n",
      "Loaded and processed: cp2022_10a02E.pdf\n",
      "Loaded and processed: cp2022_10a03E.pdf\n",
      "Processing folder: CMP17\n",
      "Loaded and processed: cmp2022_09a01E.pdf\n",
      "Processing folder: CMA4\n",
      "Loaded and processed: cma2022_10_a01E.pdf\n",
      "Loaded and processed: cma2022_10a03E.pdf\n",
      "Loaded and processed: cma2023_10a02E.pdf\n",
      "Processing folder: COP26\n",
      "Loaded and processed: cp2021_12_add1E.pdf\n",
      "Loaded and processed: cp2021_12a02E.pdf\n",
      "Processing folder: CMP16\n",
      "Loaded and processed: cmp2021_08_add1E.pdf\n",
      "Processing folder: CMA3\n",
      "Loaded and processed: CMA2021_10_Add3_E.pdf\n",
      "Loaded and processed: CMA2021_L10a2E.pdf\n",
      "Loaded and processed: cma2021_10a01E.pdf\n",
      "Processing folder: COP25\n",
      "Loaded and processed: cp2019_13_a02E.pdf\n",
      "Loaded and processed: cp2019_13a01E.pdf\n",
      "Processing folder: CMP15\n",
      "Loaded and processed: cmp2019_08a01E.pdf\n",
      "Processing folder: CMA2\n",
      "Loaded and processed: cma2019_06a01E.pdf\n",
      "Processing folder: COP24\n",
      "Loaded and processed: 10a1.pdf\n",
      "Loaded and processed: 10a2e.pdf\n",
      "Processing folder: CMP14\n",
      "Loaded and processed: 08a1e.pdf\n",
      "Processing folder: CMA1\n",
      "Loaded and processed: 03a01.pdf\n",
      "Loaded and processed: CMA2018_03a02E.pdf\n",
      "Loaded and processed: cma2018_03a01E.pdf\n",
      "Processing folder: COP23\n",
      "Loaded and processed: 11a01.pdf\n",
      "Loaded and processed: 11a02.pdf\n",
      "Processing folder: CMP13\n",
      "Loaded and processed: 07a01-6.pdf\n",
      "Processing folder: COP22\n",
      "Loaded and processed: 10a01.pdf\n",
      "Loaded and processed: 10a02.pdf\n",
      "Processing folder: CMP12\n",
      "Loaded and processed: 08a01-2.pdf\n",
      "Processing folder: COP21\n",
      "Loaded and processed: 10a01-2.pdf\n",
      "Loaded and processed: 10a02-2.pdf\n",
      "Loaded and processed: 10a03.pdf\n",
      "Processing folder: CMP11\n",
      "Loaded and processed: 08a01-3.pdf\n",
      "Loaded and processed: 08a02-2.pdf\n",
      "Processing folder: COP20\n",
      "Loaded and processed: 10a01-3.pdf\n",
      "Loaded and processed: 10a02-3.pdf\n",
      "Loaded and processed: 10a03-2.pdf\n",
      "Processing folder: CMP10\n",
      "Loaded and processed: 09a01-2.pdf\n",
      "Processing folder: COP19\n",
      "Loaded and processed: 10a01-4.pdf\n",
      "Loaded and processed: 10a02r01.pdf\n",
      "Loaded and processed: 10a03-3.pdf\n",
      "Processing folder: CMP9\n",
      "Loaded and processed: 09a01-3.pdf\n",
      "Processing folder: COP18\n",
      "Loaded and processed: 08a01.pdf\n",
      "Loaded and processed: 08a02.pdf\n",
      "Loaded and processed: 08a03.pdf\n",
      "Processing folder: CMP8\n",
      "Loaded and processed: 13a02-2.pdf\n",
      "Loaded and processed: 13a02c01.pdf\n",
      "Processing folder: COP17\n",
      "Loaded and processed: 09a01.pdf\n",
      "Loaded and processed: 09a02.pdf\n",
      "Processing folder: CMP7\n",
      "Loaded and processed: 10a01-6.pdf\n",
      "Loaded and processed: 10a02-5.pdf\n",
      "Processing folder: COP16\n",
      "Loaded and processed: 07a01.pdf\n",
      "Loaded and processed: 07a02.pdf\n",
      "Processing folder: CMP6\n",
      "Loaded and processed: 12a01.pdf\n",
      "Processing folder: COP15\n",
      "Loaded and processed: 11a01-2.pdf\n",
      "Processing folder: CMP5\n",
      "Loaded and processed: 21a01.pdf\n",
      "Processing folder: COP14\n",
      "Loaded and processed: 07a01-2.pdf\n",
      "Processing folder: CMP4\n",
      "Loaded and processed: 11a02-2.pdf\n",
      "Processing folder: COP13\n",
      "Loaded and processed: 06a01.pdf\n",
      "Processing folder: CMP3\n",
      "Loaded and processed: 09a01-4.pdf\n",
      "Processing folder: COP12\n",
      "Loaded and processed: 05a01.pdf\n",
      "Processing folder: CMP2\n",
      "Loaded and processed: 10a01-7.pdf\n",
      "Processing folder: COP11\n",
      "Loaded and processed: 05a01-2.pdf\n",
      "Processing folder: CMP1\n",
      "Loaded and processed: 08a01-4.pdf\n",
      "Loaded and processed: 08a02-3.pdf\n",
      "Loaded and processed: 08a03-2.pdf\n",
      "Loaded and processed: 08a04.pdf\n",
      "Processing folder: COP10\n",
      "Loaded and processed: 10a01-5.pdf\n",
      "Loaded and processed: 10a02-4.pdf\n",
      "Processing folder: COP9\n",
      "Loaded and processed: 06a01-2.pdf\n",
      "Loaded and processed: 06a02.pdf\n",
      "Processing folder: COP8\n",
      "Loaded and processed: 07a01-3.pdf\n",
      "Loaded and processed: 07a02-2.pdf\n",
      "Loaded and processed: 07a03.pdf\n",
      "Processing folder: COP7-1\n",
      "Loaded and processed: 05a01-3.pdf\n",
      "Processing folder: COP7-2\n",
      "Loaded and processed: 13a01.pdf\n",
      "Loaded and processed: 13a02.pdf\n",
      "Loaded and processed: 13a03.pdf\n",
      "Loaded and processed: 13a04.pdf\n",
      "Processing folder: COP6\n",
      "Loaded and processed: 05a02.pdf\n",
      "Processing folder: COP5\n",
      "Loaded and processed: 06a01-3.pdf\n",
      "Processing folder: COP4\n",
      "Loaded and processed: 16a01.pdf\n",
      "Processing folder: COP3\n",
      "Loaded and processed: 07a01-4.pdf\n",
      "Processing folder: COP2\n",
      "Loaded and processed: 15a01.pdf\n",
      "Processing folder: COP1\n",
      "Loaded and processed: 07a01-5.pdf\n"
     ]
    }
   ],
   "source": [
    "subfolders = [folder for folder in os.listdir(pdf_folder_path) if os.path.isdir(os.path.join(pdf_folder_path, folder))]\n",
    "\n",
    "# Function to sort subfolders separately by type (COP, CMP, CMA) in descending order\n",
    "def custom_sort_key(folder_name):\n",
    "    # Match COP, CMP, CMA with their numbers\n",
    "    match = re.match(r\"(COP|CMP|CMA)(\\d+)\", folder_name)\n",
    "    if match:\n",
    "        conference_type = match.group(1)\n",
    "        number = int(match.group(2))\n",
    "        if conference_type == \"COP\":\n",
    "            return (0, -number)  # Sort COP first in descending order\n",
    "        elif conference_type == \"CMP\":\n",
    "            return (1, -number)  # CMP comes after COP, in descending order\n",
    "        elif conference_type == \"CMA\":\n",
    "            return (2, -number)  # CMA comes last, in descending order\n",
    "    return (3, folder_name)  # Default case if no match\n",
    "\n",
    "# Sort the subfolders by type (COP, CMP, CMA)\n",
    "cop_subfolders = [folder for folder in subfolders if \"COP\" in folder]\n",
    "cmp_subfolders = [folder for folder in subfolders if \"CMP\" in folder]\n",
    "cma_subfolders = [folder for folder in subfolders if \"CMA\" in folder]\n",
    "\n",
    "# Sort each list in descending order\n",
    "cop_subfolders.sort(key=custom_sort_key)\n",
    "cmp_subfolders.sort(key=custom_sort_key)\n",
    "cma_subfolders.sort(key=custom_sort_key)\n",
    "\n",
    "# Create a list to store the final ordered subfolders by alternating COP, CMP, and CMA\n",
    "final_order = []\n",
    "\n",
    "# Find the maximum number of COP, CMP, and CMA folders to ensure alternating\n",
    "max_length = max(len(cop_subfolders), len(cmp_subfolders), len(cma_subfolders))\n",
    "\n",
    "# Alternate between COP, CMP, and CMA\n",
    "for i in range(max_length):\n",
    "    if i < len(cop_subfolders):\n",
    "        final_order.append(cop_subfolders[i])\n",
    "    if i < len(cmp_subfolders):\n",
    "        final_order.append(cmp_subfolders[i])\n",
    "    if i < len(cma_subfolders):\n",
    "        final_order.append(cma_subfolders[i])\n",
    "\n",
    "# Create a list to store the documents\n",
    "documents = []\n",
    "\n",
    "# Initialize a counter for the number of PDFs ingested\n",
    "pdf_count = 0\n",
    "\n",
    "# Function to load and process PDFs from each subfolder\n",
    "def load_pdfs_from_subfolders(pdf_folder_path, final_order):\n",
    "    global pdf_count\n",
    "\n",
    "    for subfolder in final_order:\n",
    "        # Get the path for the current subfolder\n",
    "        subfolder_path = os.path.join(pdf_folder_path, subfolder)\n",
    "        \n",
    "        # List all PDFs in the subfolder and sort them\n",
    "        files_in_subfolder = sorted([file for file in os.listdir(subfolder_path) if file.endswith('.pdf')])\n",
    "\n",
    "        # Print the subfolder name being processed\n",
    "        print(f\"Processing folder: {subfolder}\")\n",
    "\n",
    "        # Load each PDF in the subfolder\n",
    "        for file_name in files_in_subfolder:\n",
    "            pdf_path = os.path.join(subfolder_path, file_name)\n",
    "            loader = PyPDFLoader(pdf_path)\n",
    "            doc = loader.load()\n",
    "            \n",
    "            # Add the loaded document to the list\n",
    "            documents.extend(doc)\n",
    "            \n",
    "            # Increment the PDF counter\n",
    "            global pdf_count\n",
    "            pdf_count += 1\n",
    "            print(f'Loaded and processed: {file_name}')\n",
    "\n",
    "# Load PDFs from the sorted subfolders\n",
    "load_pdfs_from_subfolders(pdf_folder_path, final_order)"
   ]
  },
  {
   "cell_type": "code",
   "execution_count": 347,
   "metadata": {},
   "outputs": [
    {
     "data": {
      "text/plain": [
       "'FCCC/CP/2023/11/Add.1 \\n2  \\n   Decision 1/CP.28 \\n  Operationalization of the new funding arrangements, \\nincluding a fund, for responding to loss and damage referred \\nto in paragraphs 2–3 of decisions 2/CP.27 and 2/CMA.4 \\n  The Conference of the Parties and the Conference of the Parties serving as the \\nmeeting of the Parties to the Paris Agreement, \\n  Recalling decisions 2/CP.27 and 2/CMA.4, \\n Also recalling decisions 2/CP.27, paragraph 2, and 2/CMA.4, paragraph 2, by which \\nnew funding arrangements were establi shed for assisting developing countries that are \\nparticularly vulnerable to the adverse effects of climate change in responding to loss and \\ndamage, including with a focus on addressing loss and damage , by providing and assisting \\nin mobilizing new and addit ional resources, and which specify that these new arrangements \\ncomplement and include sources, funds, processes and initiatives under and outside the \\nConvention and the Paris Agreement, \\n Further recalling decisions 2/CP.27, paragraphs 1 and 3, and 2/CMA.4, paragraphs 1 \\nand 3, by which, in the context of establishing the new funding arrangements, a fund was \\nestablished for responding to loss and damage whose mandate includes a focus on addressing \\nloss and damage to assist developing countries that are particularly vulnerable to the adverse \\neffects of climate change in responding to economic and non -economic loss and damage \\nassociated with the adverse effects of climate change, including extreme weather events and \\nslow onset events, \\n Acknowledging that climate  change is a common concern of humankind and that \\nParties should, when taking action to address climate change, respect, promote and consider \\ntheir respective obligations on human rights, the right to a clean, healthy and sustainable \\nenvironment, the right  to health, the rights of Indigenous Peoples, local communities, \\nmigrants, children, persons with disabilities and people in vulnerable situations and the right \\nto development, as well as gender equality, empowerment of women and intergenerational \\nequity,1  \\n Recalling the understanding of the Conference of the Parties and the Conference of \\nthe Parties serving as the meeting of the Parties to the Paris Agreement  that funding \\narrangements, including a fund, for responding to loss and damage are based on cooperation \\nand facilitation and do not involve liability or compensation,2 \\n Expressing appreciation to the Governments of Egypt, the Dominican Republic and \\nthe United Arab Emirates for hosting the 1 st and 4th meetings, 3rd meeting and 5th meeting \\nrespectively of the transitional committee on the operationalization of the new funding \\narrangements for responding to loss and damage and the fund established in paragraph 3 of \\ndecisions 2/CP.27 and 2/CMA.4 and to the Governments of Australia, Germany, Norway and \\nthe United States of America for providing financial support for the work of the Committee,  \\n1. Welcome the report of the transitional committee on the operationalization of the new \\nfunding arrangements for responding to loss and dama ge and the fund established in \\nparagraph 3 of decisions 2/CP.27 and 2/CMA.4  (Transitional Committee)3 containing \\nrecommendations on the operationalization of the funding arrangements for responding to \\nloss and damage referred to in paragraph 2 of decisions 2/CP.27 and 2/CMA.4, including the \\nfund referred to in paragraph 3  of the same decisions (hereinafter referred to as the Fund) , \\nand take note with appreciation of the work of the Transitional Committee in responding to \\nits mandate;4 \\n \\n 1 Decision 1/CMA.4, eleventh preambular paragraph. \\n 2 FCCC/CP/2022/10, para. 7(b), and FCCC/PA/CMA/2022/10, para. 71. \\n 3 FCCC/CP/2023/9–FCCC/PA/CMA/2023/9. \\n 4 Decisions 2/CP.27, para. 4, and 2/CMA.4, para. 4. '"
      ]
     },
     "execution_count": 347,
     "metadata": {},
     "output_type": "execute_result"
    }
   ],
   "source": [
    "documents[1].page_content"
   ]
  },
  {
   "cell_type": "code",
   "execution_count": 348,
   "metadata": {},
   "outputs": [],
   "source": [
    "text_splitter = RecursiveCharacterTextSplitter(chunk_size=1000, chunk_overlap=100)\n",
    "chunks = text_splitter.split_documents(documents)"
   ]
  },
  {
   "cell_type": "code",
   "execution_count": 378,
   "metadata": {},
   "outputs": [
    {
     "name": "stdout",
     "output_type": "stream",
     "text": [
      "Total number of document chunks: 12339\n"
     ]
    }
   ],
   "source": [
    "print(f'Total number of document chunks: {len(chunks)}')"
   ]
  },
  {
   "cell_type": "code",
   "execution_count": 379,
   "metadata": {},
   "outputs": [
    {
     "data": {
      "text/plain": [
       "'guidance that the Conference of the Parties may provide in the future, the interim secretariat\\nwas requested to continue to facilitate the provision of technical and financial support to\\nParties, in cooperation with its partners, and to periodically report back to the Conference of\\nthe Parties on progress achieved, so that further guidance could be provided.\"\\n-----'"
      ]
     },
     "execution_count": 379,
     "metadata": {},
     "output_type": "execute_result"
    }
   ],
   "source": [
    "chunks[12338].page_content"
   ]
  },
  {
   "cell_type": "code",
   "execution_count": 351,
   "metadata": {},
   "outputs": [],
   "source": [
    "from langchain_ollama import OllamaEmbeddings"
   ]
  },
  {
   "cell_type": "code",
   "execution_count": 352,
   "metadata": {},
   "outputs": [],
   "source": [
    "embeddings_model = OllamaEmbeddings(\n",
    "    model=\"nomic-embed-text:latest\",\n",
    ")"
   ]
  },
  {
   "cell_type": "code",
   "execution_count": 353,
   "metadata": {},
   "outputs": [],
   "source": [
    "from langchain_chroma import Chroma\n"
   ]
  },
  {
   "cell_type": "code",
   "execution_count": 402,
   "metadata": {},
   "outputs": [],
   "source": [
    "vectorstore = Chroma.from_documents(\n",
    "    documents=documents,\n",
    "    collection_name=\"rag-chroma\",\n",
    "    embedding=embeddings_model,\n",
    "    persist_directory='/Users/badekale/Documents/Hamoyeew/chromanir_index3'\n",
    ")\n"
   ]
  },
  {
   "cell_type": "code",
   "execution_count": 422,
   "metadata": {},
   "outputs": [
    {
     "data": {
      "text/plain": [
       "10"
      ]
     },
     "execution_count": 422,
     "metadata": {},
     "output_type": "execute_result"
    }
   ],
   "source": [
    "question = \"Report of the Conference of the Parties serving as the meeting of the Parties to the Paris Agreement on the first part of its first session, held in Marrakech\"\n",
    "docs = vectorstore.similarity_search(question, k=10)\n",
    "len(docs)"
   ]
  },
  {
   "cell_type": "code",
   "execution_count": 404,
   "metadata": {},
   "outputs": [
    {
     "data": {
      "text/plain": [
       "Document(metadata={'page': 23, 'source': '/Users/badekale/Documents/Hamoyeew/Subfolders/CMP11/08a02-2.pdf'}, page_content='FCCC/KP/CMP/2015/8/Add.2 \\n24  \\nResolution 1/CMP.11 \\n  Expression of gratitude to the Government of the French \\nRepublic and the people of the city of Paris \\nDraft resolution submitted by Morocco \\nThe Conference of the Parties and the Conference of the Parties serving as the \\nmeeting of the Parties to the Kyoto Protocol, \\nHaving met in Paris from 30 November to 11 December 2015 at the invitation of the \\nGovernment of the French Republic, \\n1. Express their profound gratitude  to the Government of the Frenc h Republic for \\nhaving made it possible for the twenty -first session of the Conference of the Parties and the \\neleventh session of the Conference of the Parties serving as the meeting of the Parties to the \\nKyoto Protocol to be held in Paris; \\n2. Request the Government of the French Republic to convey to the city and people of \\nParis the gratitude of the Conference of the Parties and the Conference of the Parties \\nserving as the meeting of the Parties to the Kyoto Protocol for the hospitality and warmth \\nextended to the participants. \\n9th plenary meeting \\n13 December 2015 \\n    ')"
      ]
     },
     "execution_count": 404,
     "metadata": {},
     "output_type": "execute_result"
    }
   ],
   "source": [
    "docs[4]"
   ]
  },
  {
   "cell_type": "code",
   "execution_count": 383,
   "metadata": {},
   "outputs": [
    {
     "data": {
      "text/plain": [
       "10"
      ]
     },
     "execution_count": 383,
     "metadata": {},
     "output_type": "execute_result"
    }
   ],
   "source": [
    "question = \"climate policy themes\"\n",
    "doc = vectorstore.similarity_search(question, k=10)\n",
    "len(doc)"
   ]
  },
  {
   "cell_type": "code",
   "execution_count": 384,
   "metadata": {},
   "outputs": [
    {
     "data": {
      "text/plain": [
       "Document(metadata={'page': 21, 'source': '/Users/badekale/Documents/Hamoyeew/Subfolders/COP18/08a02.pdf'}, page_content='FCCC/CP/2012/8/Add.2 \\n22  \\nsubregional, regional and international levels, as appropriate.  Technical skills and \\nknowledge provide an opportunity to adequately address and res pond to climate change \\nissues. \\n C. Public awareness  \\n18. Cooperate in, promote, fac ilitate, develop and implement public awareness \\nprogrammes on climate change and its effects at the national and, as appropriate, \\nsubregional, regional and international levels by, inter alia, encouraging contributions and \\npersonal action in addressing cli mate change, supporting climate -friendly policies and \\nfostering behavioural changes, including by using popular media, noting the important role \\nthat social media platforms and strategies can play in this context.  \\n D. Public access to information \\n19. Facilitate public access to data and information, by providing the information on \\nclimate change initiatives, policies and results of actions that is needed by the public and \\nother stakeholders to understand, address and respond to climate change. This should take \\ninto account such factors as quality of Internet access, literacy and language issues.  \\n E. Public participation \\n20. Promote public participation in addressing climate change and its effects and in \\ndeveloping adequate responses, by facilitating feedbac k, debate and partnership in climate \\nchange activities and in governance, noting the important role that social media platforms \\nand strategies can play in this context. \\n F. International cooperation \\n21. Subregional, regional and international cooperation i n undertaking activities within \\nthe scope of the work programme can enhance the collective ability of Parties to implement \\nthe Convention. The efforts of IGOs and NGOs can also contribute to its implementation. \\nSuch cooperation can further enhance synergie s between conventions and improve the \\neffectiveness of all sustainable development efforts. \\n IV. Implementation \\n A. Parties \\n22. As part of their national programmes and activities in implementing the Convention, \\nand within the scope of the Doha work programme, Parties could, inter alia: \\nStrategy  \\n(a) Designate and provide support, including technical and financial support, and \\naccess to information and materials to a national focal point for Article 6 activities and \\nassign specific responsibilities. These respo nsibilities could include the identification of \\nareas for possible international cooperation and opportunities for strengthening synergies \\nwith other conventions, and the coordination of the preparation of the Article 6 chapter in ')"
      ]
     },
     "execution_count": 384,
     "metadata": {},
     "output_type": "execute_result"
    }
   ],
   "source": [
    "doc[9]"
   ]
  },
  {
   "cell_type": "code",
   "execution_count": 420,
   "metadata": {},
   "outputs": [],
   "source": [
    "from langchain_ollama import OllamaLLM\n",
    "\n",
    "ollama = OllamaLLM(\n",
    "    base_url=\"http://localhost:11434\",  \n",
    "    model=\"llama3.2:3b\",  \n",
    "    temperature=0,  \n",
    "    #num_predict=1000  \n",
    ")\n"
   ]
  },
  {
   "cell_type": "code",
   "execution_count": null,
   "metadata": {},
   "outputs": [
    {
     "name": "stdout",
     "output_type": "stream",
     "text": [
      "The impact of climate change on coastal cities can be severe and far-reaching. Some of the most significant effects include:\n",
      "\n",
      "1. Sea-level rise: As global temperatures rise, the oceans are expanding, causing sea levels to rise. This can lead to flooding, erosion, and saltwater intrusion into freshwater sources.\n",
      "2. Increased storm intensity: Climate change is projected to increase the frequency and intensity of storms, which can cause catastrophic damage to coastal cities and infrastructure.\n",
      "3. Coastal erosion: Rising sea levels and increased storm activity can lead to coastal erosion, causing beaches to disappear and coastal defenses to be breached.\n",
      "4. Saltwater intrusion: As sea levels rise, saltwater can intrude into freshwater sources, making them undrinkable and affecting agriculture and industry.\n",
      "5. Loss of infrastructure: Climate change can cause flooding and damage to coastal infrastructure, including roads, bridges, and buildings.\n",
      "6. Displacement of communities: Rising sea levels and increased storm activity can lead to the displacement of communities living in low-lying areas, as their homes and livelihoods become uninhabitable.\n",
      "7. Increased risk of waterborne diseases: Climate change can contaminate water sources with sewage, chemicals, and other pollutants, increasing the risk of waterborne diseases.\n",
      "8. Loss of biodiversity: Coastal ecosystems are vulnerable to climate change, leading to the loss of biodiversity and ecosystem disruption.\n",
      "\n",
      "Some specific examples of coastal cities affected by climate change include:\n",
      "\n",
      "* Miami Beach, Florida, USA: Rising sea levels have caused frequent flooding and erosion, threatening the city's very existence.\n",
      "* Venice, Italy: The city is sinking at a rate of 1-2 mm per year due to subsidence and rising sea levels, making it increasingly vulnerable to flooding.\n",
      "* Jakarta, Indonesia: The city is experiencing frequent flooding and saltwater intrusion, threatening the livelihoods of millions of people.\n",
      "* Bangkok, Thailand: Rising sea levels and increased storm activity have caused significant damage to the city's infrastructure and posed a threat to its very existence.\n",
      "\n",
      "To mitigate these impacts, coastal cities are implementing various adaptation strategies, such as:\n",
      "\n",
      "1. Sea walls and coastal defenses\n",
      "2. Flood-control measures, such as levees and pumps\n",
      "3. Green infrastructure, such as parks and green roofs\n",
      "4. Climate-resilient construction materials and designs\n",
      "5. Early warning systems for extreme weather events\n",
      "6. Urban planning and zoning regulations to reduce the risk of flooding and erosion.\n",
      "\n",
      "It's essential for coastal cities to adopt a proactive approach to climate change mitigation and adaptation, investing in infrastructure, education, and community engagement to ensure the long-term sustainability of these vibrant urban centers.\n"
     ]
    }
   ],
   "source": [
    "sample_response = ollama.invoke(\"What is the impact of climate change on coastal cities?\")\n",
    "print(sample_response)\n"
   ]
  },
  {
   "cell_type": "code",
   "execution_count": 421,
   "metadata": {},
   "outputs": [],
   "source": [
    "retriever = vectorstore.as_retriever(search_kwargs={\"k\": 4})\n",
    "rag_chain = RetrievalQA.from_chain_type(\n",
    "    llm=ollama,\n",
    "    chain_type=\"stuff\",\n",
    "    retriever=retriever,\n",
    "    return_source_documents=True\n",
    ")\n"
   ]
  },
  {
   "cell_type": "code",
   "execution_count": 408,
   "metadata": {},
   "outputs": [
    {
     "name": "stdout",
     "output_type": "stream",
     "text": [
      "{'query': 'All Climate policies themes mentioned in the documents', 'result': 'Based on the provided documents, the climate policy themes mentioned are:\\n\\n1. Education\\n2. Training\\n3. Public awareness\\n4. Public access to information\\n5. Public participation\\n6. International cooperation\\n7. National circumstances and capacities\\n8. Sustainable development\\n9. Adaptation (specifically, the National Adaptation Plans of Action (NAPAs))\\n\\nThese themes are mentioned in various sections of the documents, including the FCCC/CP work programmes, the New Delhi work programme, and the NAPA document structure.', 'source_documents': [Document(metadata={'page': 44, 'source': '/Users/badekale/Documents/Hamoyeew/Subfolders/COP2/15a01.pdf'}, page_content='FCCC/CP/1996/15/Add.1\\nEnglish\\nPage 45\\n(c) Any other information that the Party considers relevant to the achievement of\\nthe objective of the Convention and suitable for inclusion in its communication, including, if\\nfeasible, material relevant for calculations of global emission trends. \\nNational  circumstances\\n4. In presenting the information, non-Annex I Parties should specify their national and\\nregional development priorities, objectives and circumstances on the basis of which they will\\naddress climate change and its adverse impacts. The description of these circumstances can\\ncover a wide range of information. In addition to information which can be conveniently\\npresented in a table (see table I below), Parties may present basic economic, geographic and\\nclimatic information, as well as other factors relevant to climate change of any nature, such\\nas, for example, features of their economy which may affect their ability to deal with climate\\nchange.\\n5. Parties may provide a brief description of existing institutional arrangements which are\\nrelevant to the preparation of the inventory on a continuing basis, or a list of perceived\\ndeficiencies in this area.\\n6. Parties may also present information on their specific needs and concerns arising from\\nthe adverse effects of climate change and/or the impact of the implementation of response\\nmeasures, specially on:\\n(a) Small island countries;\\n(b) Countries with low-lying coastal areas;\\n(c) Countries with arid and semi-arid areas, forested areas and areas liable to forest\\ndecay;\\n(d) Countries with areas prone to natural disasters;\\n(e) Countries with areas liable to drought and desertification;\\n(f) Countries with areas of high urban atmospheric pollution;\\n(g) Countries with areas with fragile ecosystems, including mountainous\\necosystems;\\n(h) Countries whose economies are highly dependent on income generated from the\\nproduction, processing and export, and/or on consumption of fossil fuels and associated\\nenergy-intensive products;'), Document(metadata={'page': 25, 'source': '/Users/badekale/Documents/Hamoyeew/Subfolders/COP8/07a01-3.pdf'}, page_content='FCCC/CP/2002/7/Add.1 \\nEnglish \\nPage 26 \\n \\n(c) A phased approach integrating Article 6 activities into existing climate change \\nprogrammes and strategies; \\n(d) Promotion of partnerships, networks and synergies, in particular, synergies between \\nconventions; \\n(e) An interdisciplinary approach; \\n(f) A holistic, systematic approach; \\n(g) The principles of sustainable development. \\n \\nC. Scope of the work programme  \\n10.   As part of their national programmes to implement the Convention, and taking into account \\nnational circumstances and capacities, Parties are encouraged to undertake activities under the categories \\nlisted below, which reflect the six elements of Article 6.   \\nInternational cooperation \\n11.   Subregional, regional and international cooperation in undertaking activities within the scope of \\nthe work programme can enhance the collective ability of Parties to implement the Convention, and the \\nefforts of intergovernmental and non-governmental organizations can also contribute to its \\nimplementation.  Such cooperation can further enhance synergies between conventions and improve the \\neffectiveness of all sustainable development efforts. \\n \\nEducation \\n12.   In order to advance implementation of Article 6 of the Convention, it is useful to cooperate in, \\npromote, facilitate, develop and implement education and training programmes focused on climate \\nchange, targeting youth in particular, and including exchange or secondment of personnel to train \\nexperts.   \\n \\nTraining \\n13.   In order to advance implementation of Article 6 of the Convention, it is useful to cooperate in, \\npromote, facilitate, develop and implement training programmes focused on climate change, for \\nscientific, technical, and managerial personnel at the national and, as appropriate, subregional, regional \\nand international levels.  Technical skills and knowledge provide an opportunity to adequately address \\nand respond to climate change issues. \\nPublic awareness, public participation and public access to information \\n14.   In order to advance implementation of Article 6 of the Convention, it is useful to cooperate in, \\npromote, facilitate, develop and implement public awareness programmes on climate change and its \\neffects at the national and, as appropriate, subregional, regional and international levels.  It is also useful \\nto facilitate public access to information on climate change and its effects, and to promote public \\nparticipation in addressing climate change and its effects and in developing adequate responses.   \\n \\n \\n \\n \\n '), Document(metadata={'page': 38, 'source': '/Users/badekale/Documents/Hamoyeew/Subfolders/COP13/06a01.pdf'}, page_content='FCCC/CP/2007/6/Add.1* \\nPage 39 \\n \\n \\n(c) A phased approach integrating Article 6 activities into existing climate change \\nprogrammes and strategies; \\n(d) Promotion of partnerships, networks and synergies, in particular, synergies between \\nconventions; \\n(e) An interdisciplinary approach; \\n(f) A holistic, systematic approach; \\n(g) The principles of sustainable development. \\nC. Scope of the amended New Delhi work programme \\n10.   As part of their national programmes to implement the Convention, and taking into account \\nnational circumstances and capacities, Parties are encouraged to undertake activities under the categories \\nlisted below, which reflect the six elements of Article 6.   \\nEducation  \\n11.   In order to advance implementation of Article 6 of the Convention, it is useful to cooperate in, \\npromote, facilitate, develop and implement education and training programmes focused on climate \\nchange, targeting youth in particular, and including exchange or secondment of personnel to train \\nexperts.   \\nTraining  \\n12.   In order to advance implementation of Article 6 of the Convention, it is useful to cooperate in, \\npromote, facilitate, develop and implement training programmes focused on climate change, for \\nscientific, technical and managerial personnel at the national and, as appropriate, subregional, regional \\nand international levels.  Technical skills and knowledge provide an opportunity to adequately address \\nand respond to climate change issues. \\nPublic awareness  \\n13.   In order to advance implementation of Article 6 of the Convention, it is useful to cooperate in, \\npromote, facilitate, develop and implement public awareness programmes on climate change and its \\neffects at the national and, as appropriate, subregional, regional and international levels by, inter alia, \\nencouraging contributions and personal action in addressing climate change, supporting climate-friendly \\npolicies and fostering behavioural changes, including by using popular media. \\nPublic access to information \\n14.   In order to advance the implementation of Artic le 6 of the Convention, it is useful to facilitate \\npublic access to data and information, by providing the information on climate change initiatives, \\npolicies and results of actions that is needed by the public and other stakeholders to understand, address \\nand respond to climate change, taking into account local and national circumstances such as quality of \\nInternet access, literacy and language issues. \\nPublic participation \\n15.   In order to advance the implementation of Ar ticle 6 of the Convention, it is useful to promote \\npublic participation in addressing climate change and its effects and in developing adequate responses, \\nby facilitating feedback, debate and partnership in climate change activities and in governance. \\n '), Document(metadata={'page': 10, 'source': '/Users/badekale/Documents/Hamoyeew/Subfolders/COP7-2/13a04.pdf'}, page_content='FCCC/CP/2001/13/Add.4\\nEnglish\\nPage 11\\n(e)  Public review and revision:  the NAPA document will undergo public review and\\nbe revised accordingly;\\n(f)  The final review process:  the NAPA document, including the profiles, will be\\nreviewed by a team of government and civil society representatives, including the private sector,\\nwho may take into consideration any advice solicited from the Least Developed Countries Expert\\nGroup;\\n(g)  National government endorsement of the NAPA:  after the NAPA has been\\nprepared, it will be submitted to the national government for endorsement.\\n(h)  Public dissemination:  the endorsed NAPA document will be made available to\\nthe public and to the UNFCCC secretariat.\\nF.  Structure of NAPA document\\n1.  Introduction and setting\\n9.  This introductory section will include background information about the country that is\\nrelevant to the NAPA process.  It will cover current characteristics, key environmental stresses,\\nand how climate change and climate variability adversely affect biophysical processes and key\\nsectors.\\n2.  Framework for adaptation programme\\n10.  This section will also provide an overview of climate variability and observed and\\nprojected climate change and associated actual and potential adverse effects of climate change.\\nThis overview will be based on existing and ongoing studies and research, and/or empirical and\\nhistorical information as well as traditional knowledge.\\n11.  This section will describe the NAPA framework and its relationship to the country’s\\ndevelopment goals, as described in subparagraph 8(b)(i) above, to make the framework\\nconsistent with socio-economic and development needs.  In addition, it would also describe the\\ngoals, objectives and strategies of the NAPA, taking into account other plans and multilateral\\nenvironmental agreements.\\n12.  Where possible, a description of the potential barriers to implementation should also be\\nincluded.')]}\n"
     ]
    }
   ],
   "source": [
    "response = rag_chain.invoke(\"All Climate policies themes mentioned in the documents\")\n",
    "print(response)"
   ]
  },
  {
   "cell_type": "code",
   "execution_count": 355,
   "metadata": {},
   "outputs": [
    {
     "data": {
      "text/plain": [
       "dict_keys(['query', 'result'])"
      ]
     },
     "execution_count": 355,
     "metadata": {},
     "output_type": "execute_result"
    }
   ],
   "source": [
    "response.keys()"
   ]
  },
  {
   "cell_type": "code",
   "execution_count": 409,
   "metadata": {},
   "outputs": [
    {
     "data": {
      "text/plain": [
       "'Based on the provided documents, the climate policy themes mentioned are:\\n\\n1. Education\\n2. Training\\n3. Public awareness\\n4. Public access to information\\n5. Public participation\\n6. International cooperation\\n7. National circumstances and capacities\\n8. Sustainable development\\n9. Adaptation (specifically, the National Adaptation Plans of Action (NAPAs))\\n\\nThese themes are mentioned in various sections of the documents, including the FCCC/CP work programmes, the New Delhi work programme, and the NAPA document structure.'"
      ]
     },
     "execution_count": 409,
     "metadata": {},
     "output_type": "execute_result"
    }
   ],
   "source": [
    "response[\"result\"]"
   ]
  },
  {
   "cell_type": "code",
   "execution_count": null,
   "metadata": {},
   "outputs": [],
   "source": [
    "var = response[\"source_documents\"]"
   ]
  },
  {
   "cell_type": "code",
   "execution_count": null,
   "metadata": {},
   "outputs": [
    {
     "data": {
      "text/plain": [
       "4"
      ]
     },
     "execution_count": 76,
     "metadata": {},
     "output_type": "execute_result"
    }
   ],
   "source": [
    "len(var)"
   ]
  },
  {
   "cell_type": "code",
   "execution_count": 415,
   "metadata": {},
   "outputs": [
    {
     "name": "stdout",
     "output_type": "stream",
     "text": [
      "{'query': 'Key themes within all the documents, focusing on energy policy, climate adaptation, and mitigation strategies.', 'result': \"Based on the provided documents, I can identify some key themes that are relevant to energy policy, climate adaptation, and mitigation strategies. Here are a few:\\n\\n1. Energy efficiency and sustainable development: The documents emphasize the importance of integrating adaptation planning with sustainable development, including energy efficiency measures.\\n2. Climate change vulnerability and risk assessment: The documents highlight the need for assessing vulnerability and risk associated with climate change, which is essential for developing effective adaptation strategies.\\n3. Capacity building and institutional strengthening: The documents stress the importance of capacity building and institutional strengthening to support adaptation efforts, particularly in developing countries.\\n4. Integration of climate change into national policies: The documents encourage Parties to integrate climate change considerations into their national policies, including energy policy, agriculture, water management, and other sectors.\\n5. Research and development of new technologies: The documents promote research on adaptation options and the development and diffusion of new technologies, know-how, and practices for adaptation.\\n\\nHowever, I couldn't find specific information on energy policy, climate adaptation, and mitigation strategies that are directly related to each other. If you could provide more context or clarify what you're looking for, I'd be happy to try and help further.\", 'source_documents': [Document(metadata={'page': 11, 'source': '/Users/badekale/Documents/Hamoyeew/Subfolders/COP7-2/13a04.pdf'}, page_content='FCCC/CP/2001/13/Add.4\\nEnglish\\nPage 12\\n3.  Identification of key adaptation needs\\n13.  Based on this overview and framework, past and current practices for adaptation to\\nclimate change and climate variability will be identified as related to existing information\\nregarding the country’s vulnerability to the adverse effects of climate change, climate variability\\nand extreme weather events, as well as long-term climate change.  This section will explain how\\nand to what extent activities may address specific vulnerabilities.\\n14.  Given the actual and potential adverse effects of climate change described in section F.2\\nabove, this section will identify relevant adaptation options including capacity building, policy\\nreform, integration into sectoral policies and project-level activities.\\n4.  Criteria for selecting priority activities\\n15.  A set of locally-driven criteria will be used to select priority adaptation activities.  These\\ncriteria should include, inter alia :\\n(a)  Level or degree of adverse effects of climate change;\\n(b)  Poverty reduction to enhance adaptive capacity;\\n(c)  Synergy with other multilateral environmental agreements;\\n(d)  Cost-effectiveness.\\n16.  These criteria for prioritization will be applied to , inter alia :\\n(a)  Loss of life and livelihood;\\n(b)  Human health;\\n(c)  Food security and agriculture;\\n(d)  Water availability, quality and accessibility;\\n(e)  Essential infrastructure;\\n(f)  Cultural heritage;\\n(g)  Biological diversity;\\n(h)  Land-use management and forestry;\\n(i)  Other environmental amenities;\\n(j)  Coastal zones, and associated loss of land.'), Document(metadata={'page': 9, 'source': '/Users/badekale/Documents/Hamoyeew/Subfolders/COP7-2/13a04.pdf'}, page_content='FCCC/CP/2001/13/Add.4\\nEnglish\\nPage 10\\n (iii)  To identify key climate-change adaptation measures, based, to the extent\\npossible, on vulnerability and adaptation assessment; such measures would\\nalso be responsive to needs identified under other relevant processes, such\\nas the preparation of national action plans under the United Nations\\nConvention to Combat Desertification and national biodiversity strategies\\nand action plans under the Convention on Biological Diversity;\\n (iv)  To identify and prioritize country-driven criteria for selecting priority\\nactivities to address needs arising from the adverse effects of climate\\nchange, drawing on the criteria referred to in section F.4 below.\\n(c)  Development of proposals for priority activities to address needs arising from the\\nadverse effects of climate change:  the national team will:\\n (i)  Organize a national and/or subnational consultative process to solicit\\ninputs and proposal ideas in order to help develop a short list of potential\\nNAPA activities.  The national team would facilitate this consultative\\nprocess, and would help in translating ideas into activities.  This process\\nwill allow adequate dialogue between the national team and the public,\\nwith time allowed for public comment and revisions;\\n (ii)  Identify potential activities, which may include capacity building and\\npolicy reform, and which may be integrated into sectoral and other\\npolicies;\\n (iii)  Select and identify priority activities, based on the agreed criteria;\\n (iv)  Propose profiles of priority activities using the following format:\\n•  Title\\n•  Rationale/justification in relation to climate change, including sectors\\nconcerned\\n•  Description\\n-  Objectives and activities\\n-  Inputs\\n-  Short-term outputs\\n-  Potential long-term outcomes\\n•  Implementation\\n-  Institutional arrangement\\n-  Risks and barriers\\n-  Evaluation and monitoring\\n-  Financial resources\\n(d)  The development of the NAPA document:  the document will be prepared\\nfollowing the structure set out in section F below;'), Document(metadata={'page': 7, 'source': '/Users/badekale/Documents/Hamoyeew/Subfolders/COP11/05a01-2.pdf'}, page_content='FCCC/CP/2005/5/Add.1 \\nPage 8 \\n \\n(iii) Promoting the development of, access to, and use of information and data on \\nprojected climate change; \\n(iv) Promoting understanding of impacts of, and vulnerability to, climate change, \\ncurrent and future climate variability and extreme events, and the implications \\nfor sustainable development; \\n(v) Promoting the availability of information on the socio-economic aspects of \\nclimate change and improving the integration of socio-economic information \\ninto impact and vulnerability assessments;  \\n(b) Adaptation planning, measures and actions: \\n(i) Promoting the development and di ssemination of methods and tools for \\nassessment and improvement of adaptation planning, measures and actions, and \\nintegration with sustainable development; \\n(ii) Collecting, analysing and dissemi nating information on past and current \\npractical adaptation actions and measures, including adaptation projects,  \\nshort- and long-term adaptation strategies, and local and indigenous knowledge; \\n(iii) Promoting research on adaptation opti ons and the development and diffusion of \\ntechnologies, know-how and practices for adaptation, particularly addressing \\nidentified adaptation priorities and building on lessons learned from current \\nadaptation projects and strategies; \\n(iv) Facilitating communication and cooperation among and between Parties and \\nrelevant organizations, business, civil society and decision makers, and other \\nstakeholders; \\n(v) Promoting understanding and the deve lopment and dissemination of measures, \\nmethodologies and tools including for economic diversification aimed at \\nincreasing economic resilience and reducing reliance on vulnerable economic \\nsectors, especially for relevant categories of countries listed in Article 4, \\nparagraph 8, of the Convention.  \\n4. The programme of work will be implemented through specific activities under each sub-theme.  \\nThe implementation of such activities should incorporate the following cross-cutting issues: \\n(a) Methodologies, data and modelling \\n(b) Integration into sustainable development. \\n5. The work should draw on relevant information and activities under the Convention, as well as \\ninformation from, and activities being undertaken in, other relevant international, regional and other \\norganizations. \\nIV.  Modalities \\n6. The modalities for implementation of the programme of work, depending on the nature of the \\nspecific activities and availability of resources, may include:   \\n(a) Workshops and meetings; '), Document(metadata={'page': 85, 'source': '/Users/badekale/Documents/Hamoyeew/Subfolders/COP17/09a01.pdf'}, page_content='FCCC/CP/2011/9/Add.1 \\n86  \\n C. Implementation strategies  \\n4. Activities carried out as part of the implementation strategies would take into \\nconsideration the following:  \\n (a) Prioritizing work according to development needs and climate change \\nvulnerability and risk; \\n (b) Strengthening institutional and regulatory frameworks to support adaptation; \\n (c) Training and coordination at the sectoral and subnational levels; \\n (d) Public dissemination of information on the national adaptation plan process, \\nto be made available to the public and to the UNFCCC secretariat; \\n (e) Considering other relevant multilateral frameworks and international \\nprogrammes and initiatives, with a view to building on and complementing existing \\nadaptation planning. \\n D. Reporting, monitoring and review \\n5. These activities, including national adaptation plan documents, could be included in \\nnational strategies and plans, as appropriate. \\n6. Under this element, Parties should undertake a regular review, at intervals that they \\ndetermine: \\n (a) To address inefficiencies, incorporating the results of new assessments and \\nemerging science and reflect lessons learned from adaptation efforts; \\n (b) To monitor and review the efforts undertaken, and provide information in \\ntheir national communications on the progress made and the effectiveness of the national \\nadaptation plan process. \\n \\n10th plenary meeting \\n11 December 2011 \\n \\n    \\n ')]}\n"
     ]
    }
   ],
   "source": [
    "response3 = rag_chain.invoke(\"Key themes within all the documents, focusing on energy policy, climate adaptation, and mitigation strategies.\")\n",
    "print(response3)"
   ]
  },
  {
   "cell_type": "code",
   "execution_count": 416,
   "metadata": {},
   "outputs": [
    {
     "data": {
      "text/plain": [
       "\"Based on the provided documents, I can identify some key themes that are relevant to energy policy, climate adaptation, and mitigation strategies. Here are a few:\\n\\n1. Energy efficiency and sustainable development: The documents emphasize the importance of integrating adaptation planning with sustainable development, including energy efficiency measures.\\n2. Climate change vulnerability and risk assessment: The documents highlight the need for assessing vulnerability and risk associated with climate change, which is essential for developing effective adaptation strategies.\\n3. Capacity building and institutional strengthening: The documents stress the importance of capacity building and institutional strengthening to support adaptation efforts, particularly in developing countries.\\n4. Integration of climate change into national policies: The documents encourage Parties to integrate climate change considerations into their national policies, including energy policy, agriculture, water management, and other sectors.\\n5. Research and development of new technologies: The documents promote research on adaptation options and the development and diffusion of new technologies, know-how, and practices for adaptation.\\n\\nHowever, I couldn't find specific information on energy policy, climate adaptation, and mitigation strategies that are directly related to each other. If you could provide more context or clarify what you're looking for, I'd be happy to try and help further.\""
      ]
     },
     "execution_count": 416,
     "metadata": {},
     "output_type": "execute_result"
    }
   ],
   "source": [
    "response3[\"result\"]"
   ]
  },
  {
   "cell_type": "code",
   "execution_count": 417,
   "metadata": {},
   "outputs": [
    {
     "data": {
      "text/plain": [
       "[Document(metadata={'page': 11, 'source': '/Users/badekale/Documents/Hamoyeew/Subfolders/COP7-2/13a04.pdf'}, page_content='FCCC/CP/2001/13/Add.4\\nEnglish\\nPage 12\\n3.  Identification of key adaptation needs\\n13.  Based on this overview and framework, past and current practices for adaptation to\\nclimate change and climate variability will be identified as related to existing information\\nregarding the country’s vulnerability to the adverse effects of climate change, climate variability\\nand extreme weather events, as well as long-term climate change.  This section will explain how\\nand to what extent activities may address specific vulnerabilities.\\n14.  Given the actual and potential adverse effects of climate change described in section F.2\\nabove, this section will identify relevant adaptation options including capacity building, policy\\nreform, integration into sectoral policies and project-level activities.\\n4.  Criteria for selecting priority activities\\n15.  A set of locally-driven criteria will be used to select priority adaptation activities.  These\\ncriteria should include, inter alia :\\n(a)  Level or degree of adverse effects of climate change;\\n(b)  Poverty reduction to enhance adaptive capacity;\\n(c)  Synergy with other multilateral environmental agreements;\\n(d)  Cost-effectiveness.\\n16.  These criteria for prioritization will be applied to , inter alia :\\n(a)  Loss of life and livelihood;\\n(b)  Human health;\\n(c)  Food security and agriculture;\\n(d)  Water availability, quality and accessibility;\\n(e)  Essential infrastructure;\\n(f)  Cultural heritage;\\n(g)  Biological diversity;\\n(h)  Land-use management and forestry;\\n(i)  Other environmental amenities;\\n(j)  Coastal zones, and associated loss of land.'),\n",
       " Document(metadata={'page': 9, 'source': '/Users/badekale/Documents/Hamoyeew/Subfolders/COP7-2/13a04.pdf'}, page_content='FCCC/CP/2001/13/Add.4\\nEnglish\\nPage 10\\n (iii)  To identify key climate-change adaptation measures, based, to the extent\\npossible, on vulnerability and adaptation assessment; such measures would\\nalso be responsive to needs identified under other relevant processes, such\\nas the preparation of national action plans under the United Nations\\nConvention to Combat Desertification and national biodiversity strategies\\nand action plans under the Convention on Biological Diversity;\\n (iv)  To identify and prioritize country-driven criteria for selecting priority\\nactivities to address needs arising from the adverse effects of climate\\nchange, drawing on the criteria referred to in section F.4 below.\\n(c)  Development of proposals for priority activities to address needs arising from the\\nadverse effects of climate change:  the national team will:\\n (i)  Organize a national and/or subnational consultative process to solicit\\ninputs and proposal ideas in order to help develop a short list of potential\\nNAPA activities.  The national team would facilitate this consultative\\nprocess, and would help in translating ideas into activities.  This process\\nwill allow adequate dialogue between the national team and the public,\\nwith time allowed for public comment and revisions;\\n (ii)  Identify potential activities, which may include capacity building and\\npolicy reform, and which may be integrated into sectoral and other\\npolicies;\\n (iii)  Select and identify priority activities, based on the agreed criteria;\\n (iv)  Propose profiles of priority activities using the following format:\\n•  Title\\n•  Rationale/justification in relation to climate change, including sectors\\nconcerned\\n•  Description\\n-  Objectives and activities\\n-  Inputs\\n-  Short-term outputs\\n-  Potential long-term outcomes\\n•  Implementation\\n-  Institutional arrangement\\n-  Risks and barriers\\n-  Evaluation and monitoring\\n-  Financial resources\\n(d)  The development of the NAPA document:  the document will be prepared\\nfollowing the structure set out in section F below;'),\n",
       " Document(metadata={'page': 7, 'source': '/Users/badekale/Documents/Hamoyeew/Subfolders/COP11/05a01-2.pdf'}, page_content='FCCC/CP/2005/5/Add.1 \\nPage 8 \\n \\n(iii) Promoting the development of, access to, and use of information and data on \\nprojected climate change; \\n(iv) Promoting understanding of impacts of, and vulnerability to, climate change, \\ncurrent and future climate variability and extreme events, and the implications \\nfor sustainable development; \\n(v) Promoting the availability of information on the socio-economic aspects of \\nclimate change and improving the integration of socio-economic information \\ninto impact and vulnerability assessments;  \\n(b) Adaptation planning, measures and actions: \\n(i) Promoting the development and di ssemination of methods and tools for \\nassessment and improvement of adaptation planning, measures and actions, and \\nintegration with sustainable development; \\n(ii) Collecting, analysing and dissemi nating information on past and current \\npractical adaptation actions and measures, including adaptation projects,  \\nshort- and long-term adaptation strategies, and local and indigenous knowledge; \\n(iii) Promoting research on adaptation opti ons and the development and diffusion of \\ntechnologies, know-how and practices for adaptation, particularly addressing \\nidentified adaptation priorities and building on lessons learned from current \\nadaptation projects and strategies; \\n(iv) Facilitating communication and cooperation among and between Parties and \\nrelevant organizations, business, civil society and decision makers, and other \\nstakeholders; \\n(v) Promoting understanding and the deve lopment and dissemination of measures, \\nmethodologies and tools including for economic diversification aimed at \\nincreasing economic resilience and reducing reliance on vulnerable economic \\nsectors, especially for relevant categories of countries listed in Article 4, \\nparagraph 8, of the Convention.  \\n4. The programme of work will be implemented through specific activities under each sub-theme.  \\nThe implementation of such activities should incorporate the following cross-cutting issues: \\n(a) Methodologies, data and modelling \\n(b) Integration into sustainable development. \\n5. The work should draw on relevant information and activities under the Convention, as well as \\ninformation from, and activities being undertaken in, other relevant international, regional and other \\norganizations. \\nIV.  Modalities \\n6. The modalities for implementation of the programme of work, depending on the nature of the \\nspecific activities and availability of resources, may include:   \\n(a) Workshops and meetings; '),\n",
       " Document(metadata={'page': 85, 'source': '/Users/badekale/Documents/Hamoyeew/Subfolders/COP17/09a01.pdf'}, page_content='FCCC/CP/2011/9/Add.1 \\n86  \\n C. Implementation strategies  \\n4. Activities carried out as part of the implementation strategies would take into \\nconsideration the following:  \\n (a) Prioritizing work according to development needs and climate change \\nvulnerability and risk; \\n (b) Strengthening institutional and regulatory frameworks to support adaptation; \\n (c) Training and coordination at the sectoral and subnational levels; \\n (d) Public dissemination of information on the national adaptation plan process, \\nto be made available to the public and to the UNFCCC secretariat; \\n (e) Considering other relevant multilateral frameworks and international \\nprogrammes and initiatives, with a view to building on and complementing existing \\nadaptation planning. \\n D. Reporting, monitoring and review \\n5. These activities, including national adaptation plan documents, could be included in \\nnational strategies and plans, as appropriate. \\n6. Under this element, Parties should undertake a regular review, at intervals that they \\ndetermine: \\n (a) To address inefficiencies, incorporating the results of new assessments and \\nemerging science and reflect lessons learned from adaptation efforts; \\n (b) To monitor and review the efforts undertaken, and provide information in \\ntheir national communications on the progress made and the effectiveness of the national \\nadaptation plan process. \\n \\n10th plenary meeting \\n11 December 2011 \\n \\n    \\n ')]"
      ]
     },
     "execution_count": 417,
     "metadata": {},
     "output_type": "execute_result"
    }
   ],
   "source": [
    "response3[\"source_documents\"]"
   ]
  }
 ],
 "metadata": {
  "kernelspec": {
   "display_name": ".venv",
   "language": "python",
   "name": "python3"
  },
  "language_info": {
   "codemirror_mode": {
    "name": "ipython",
    "version": 3
   },
   "file_extension": ".py",
   "mimetype": "text/x-python",
   "name": "python",
   "nbconvert_exporter": "python",
   "pygments_lexer": "ipython3",
   "version": "3.11.0"
  },
  "orig_nbformat": 4
 },
 "nbformat": 4,
 "nbformat_minor": 2
}
